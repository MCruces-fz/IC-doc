{
 "cells": [
  {
   "cell_type": "markdown",
   "source": [
    "# Irene City\n",
    "From ancient Greek, *Εἰρήνη*: Peace.\n",
    "\n",
    "This city finds the signal pulses within the waveforms produced by the\n",
    "detector or by diomira in the case of Monte Carlo data.\n",
    "\n",
    "This includes a number of tasks:\n",
    "- Remove the signal-derivative effect of the PMT waveforms.\n",
    "- Calibrate PMTs and produced a PMT-summed waveform.\n",
    "- Remove the baseline from the SiPM waveforms and calibrate them.\n",
    "- Apply a threshold to the PMT-summed waveform.\n",
    "- Find pulses in the PMT-summed waveform.\n",
    "- Match the time window of the PMT pulse with those in the SiPMs.\n",
    "- Build the PMap object."
   ],
   "metadata": {
    "collapsed": false,
    "pycharm": {
     "name": "#%% md\n"
    }
   }
  },
  {
   "cell_type": "code",
   "execution_count": 42,
   "metadata": {
    "collapsed": true,
    "pycharm": {
     "name": "#%%\n"
    }
   },
   "outputs": [],
   "source": [
    "import os\n",
    "from os.path import join as join_path"
   ]
  },
  {
   "cell_type": "markdown",
   "source": [
    "### Constants"
   ],
   "metadata": {
    "collapsed": false,
    "pycharm": {
     "name": "#%% md\n"
    }
   }
  },
  {
   "cell_type": "code",
   "execution_count": 43,
   "outputs": [],
   "source": [
    "ICDIR     = os.environ[\"ICDIR\"]\n",
    "ICDATADIR = join_path(ICDIR, \"database/test_data/\")\n",
    "ICOUTDIR  = \"output/\""
   ],
   "metadata": {
    "collapsed": false,
    "pycharm": {
     "name": "#%%\n"
    }
   }
  },
  {
   "cell_type": "markdown",
   "source": [
    "## Initialization"
   ],
   "metadata": {
    "collapsed": false,
    "pycharm": {
     "name": "#%% md\n"
    }
   }
  },
  {
   "cell_type": "code",
   "execution_count": 44,
   "outputs": [],
   "source": [
    "if not os.path.isdir(ICOUTDIR):\n",
    "    os.mkdir(ICOUTDIR)"
   ],
   "metadata": {
    "collapsed": false,
    "pycharm": {
     "name": "#%%\n"
    }
   }
  },
  {
   "cell_type": "markdown",
   "source": [
    "## City Summary\n",
    "\n",
    "A city is an algorithm which takes a dictionary with a given number of inputs\n",
    "and returns another dictionary with processed outputs, after doing a series\n",
    "of tasks.\n",
    "\n",
    "Here we have several examples for Irene City, taken from\n",
    "`invisible_cities/cities/irene_test.py` test:\n",
    "\n",
    "## Examples of Irene usage\n",
    "\n",
    "\n",
    "### Electrons 40 keV\n",
    "\n",
    "In file `electrons_40keV_ACTIVE_10evts_RWF.h5` there is data generated for\n",
    "electrons with an energy of 40 keV.\n",
    "\n",
    "Input and output path files are passed to the city as keys of the input `conf`\n",
    "dictionary. The `ICDATADIR` is the directory with test data, and the `ICOUTDIR`\n",
    "is our output directory:"
   ],
   "metadata": {
    "collapsed": false,
    "pycharm": {
     "name": "#%% md\n"
    }
   }
  },
  {
   "cell_type": "code",
   "execution_count": 45,
   "outputs": [
    {
     "name": "stdout",
     "output_type": "stream",
     "text": [
      "ICDATADIR: /home/mcruces/Documents/GitHub/IC/invisible_cities/database/test_data/\n",
      "ICOUTDIR:  output/\n"
     ]
    }
   ],
   "source": [
    "print(f\"ICDATADIR: {ICDATADIR}\")\n",
    "print(f\"ICOUTDIR:  {ICOUTDIR}\")"
   ],
   "metadata": {
    "collapsed": false,
    "pycharm": {
     "name": "#%%\n"
    }
   }
  },
  {
   "cell_type": "markdown",
   "source": [
    "So `files_in` and `file_out` keys of the `conf` dictionary are the variables:"
   ],
   "metadata": {
    "collapsed": false,
    "pycharm": {
     "name": "#%% md\n"
    }
   }
  },
  {
   "cell_type": "code",
   "execution_count": 46,
   "outputs": [],
   "source": [
    "input_path  = join_path(ICDATADIR, \"electrons_40keV_ACTIVE_10evts_RWF.h5\")\n",
    "output_path = join_path(ICOUTDIR,  \"electrons_40keV_ACTIVE_10evts_CWF.h5\")\n"
   ],
   "metadata": {
    "collapsed": false,
    "pycharm": {
     "name": "#%%\n"
    }
   }
  },
  {
   "cell_type": "markdown",
   "source": [
    "The `detector_db` key is the local database file, which is taken from the `DetDB` class in"
   ],
   "metadata": {
    "collapsed": false
   }
  },
  {
   "cell_type": "code",
   "execution_count": 47,
   "outputs": [],
   "source": [
    "from invisible_cities.database.load_db import DetDB\n",
    "\n",
    "new_db = DetDB.new"
   ],
   "metadata": {
    "collapsed": false,
    "pycharm": {
     "name": "#%%\n"
    }
   }
  },
  {
   "cell_type": "markdown",
   "source": [
    "The `event_range` key, in this case, from zero to the number of required events"
   ],
   "metadata": {
    "collapsed": false
   }
  },
  {
   "cell_type": "code",
   "execution_count": 48,
   "outputs": [],
   "source": [
    "nrequired = 2\n",
    "evt_range = (0, nrequired)"
   ],
   "metadata": {
    "collapsed": false,
    "pycharm": {
     "name": "#%%\n"
    }
   }
  },
  {
   "cell_type": "markdown",
   "source": [
    "This variables:"
   ],
   "metadata": {
    "collapsed": false,
    "pycharm": {
     "name": "#%% md\n"
    }
   }
  },
  {
   "cell_type": "code",
   "execution_count": 49,
   "outputs": [],
   "source": [
    "case = 1\n",
    "thr_sipm_type  = [\"common\", \"individual\"][case]\n",
    "thr_sipm_value = [ 3.5    ,  0.99       ][case]"
   ],
   "metadata": {
    "collapsed": false,
    "pycharm": {
     "name": "#%%\n"
    }
   }
  },
  {
   "cell_type": "markdown",
   "source": [
    "And the last parameters passed through a list of objects to unpack\n",
    "by `unpack_s12params()` function."
   ],
   "metadata": {
    "collapsed": false
   }
  },
  {
   "cell_type": "code",
   "execution_count": 50,
   "outputs": [],
   "source": [
    "from invisible_cities.types.ic_types import minmax\n",
    "import invisible_cities.core.system_of_units as units\n",
    "# from invisible_cities.evm.ic_containers import S12Params as S12P\n",
    "from missed import S12Params as S12P\n",
    "\n",
    "s12params = [\n",
    "    S12P(time   = minmax(min =  99 * units.mus,\n",
    "                         max = 101 * units.mus),\n",
    "         length = minmax(min =   4,\n",
    "                         max =  20,),\n",
    "         stride              =   4,\n",
    "         rebin_stride        =   1),\n",
    "    S12P(time   = minmax(min =    101 * units.mus,\n",
    "                         max =   1199 * units.mus),\n",
    "         length = minmax(min =     80,\n",
    "                         max = 200000),\n",
    "         stride              =     40,\n",
    "         rebin_stride        =     40)\n",
    "]\n"
   ],
   "metadata": {
    "collapsed": false,
    "pycharm": {
     "name": "#%%\n"
    }
   }
  },
  {
   "cell_type": "markdown",
   "source": [
    "Once we have all parameters, we write the configuration with the `irene.conf` file"
   ],
   "metadata": {
    "collapsed": false
   }
  },
  {
   "cell_type": "code",
   "execution_count": 51,
   "outputs": [],
   "source": [
    "from invisible_cities.core.configure import configure\n",
    "conf = configure(f\"dummy {join_path(ICDIR, 'config/irene.conf')}\".split())"
   ],
   "metadata": {
    "collapsed": false,
    "pycharm": {
     "name": "#%%\n"
    }
   }
  },
  {
   "cell_type": "markdown",
   "source": [
    "and then update the configuration dictionary with our parameters previously calculated:"
   ],
   "metadata": {
    "collapsed": false,
    "pycharm": {
     "name": "#%% md\n"
    }
   }
  },
  {
   "cell_type": "code",
   "execution_count": 52,
   "outputs": [],
   "source": [
    "from missed import unpack_s12params\n",
    "\n",
    "conf.update(dict(\n",
    "    detector_db   = new_db,\n",
    "    run_number    = 0,\n",
    "    files_in      = input_path,\n",
    "    file_out      = output_path,\n",
    "    event_range   = evt_range,\n",
    "    thr_sipm_type = thr_sipm_type,\n",
    "    thr_sipm      = thr_sipm_value,\n",
    "    **unpack_s12params(s12params)\n",
    "))\n",
    "\n"
   ],
   "metadata": {
    "collapsed": false,
    "pycharm": {
     "name": "#%%\n"
    }
   }
  },
  {
   "cell_type": "markdown",
   "source": [
    "Pass all parameters to Irene City"
   ],
   "metadata": {
    "collapsed": false
   }
  },
  {
   "cell_type": "code",
   "execution_count": 53,
   "outputs": [
    {
     "name": "stdout",
     "output_type": "stream",
     "text": [
      "events processed: 0, event number: 0\n",
      "events processed: 1, event number: 1\n"
     ]
    }
   ],
   "source": [
    "from invisible_cities.cities.irene import irene\n",
    "\n",
    "cnt = irene(**conf)"
   ],
   "metadata": {
    "collapsed": false,
    "pycharm": {
     "name": "#%%\n"
    }
   }
  },
  {
   "cell_type": "markdown",
   "source": [
    "which returns an `argparse.Namespace` instance with those entries:"
   ],
   "metadata": {
    "collapsed": false,
    "pycharm": {
     "name": "#%% md\n"
    }
   }
  },
  {
   "cell_type": "code",
   "execution_count": 54,
   "outputs": [
    {
     "name": "stdout",
     "output_type": "stream",
     "text": [
      "- events_in:\t2\n",
      "- events_out:\t2\n",
      "- evtnum_list:\t[0, 1]\n",
      "- over_thr:\tPassedFailed(n_passed=2, n_failed=0)\n",
      "- full_pmap:\tPassedFailed(n_passed=2, n_failed=0)\n"
     ]
    }
   ],
   "source": [
    "d = vars(cnt)\n",
    "for entry in d:\n",
    "    print(f\"- {entry}:\\t{d[entry]}\")\n"
   ],
   "metadata": {
    "collapsed": false,
    "pycharm": {
     "name": "#%%\n"
    }
   }
  },
  {
   "cell_type": "markdown",
   "source": [
    "### For a specific Run\n",
    "\n",
    "Following similar steps:"
   ],
   "metadata": {
    "collapsed": false,
    "pycharm": {
     "name": "#%% md\n"
    }
   }
  },
  {
   "cell_type": "code",
   "execution_count": 58,
   "outputs": [
    {
     "name": "stdout",
     "output_type": "stream",
     "text": [
      "events processed: 0, event number: 1820002\n",
      "events processed: 1, event number: 1820004\n"
     ]
    }
   ],
   "source": [
    "run_number = 2983\n",
    "nrequierd = 2\n",
    "input_path  = join_path(ICDATADIR, \"run_2983.h5\")\n",
    "output_path = join_path(ICOUTDIR,  \"run_2983.h5\")\n",
    "\n",
    "conf = configure(f\"dummy {join_path(ICDIR, 'config/irene.conf')}\".split())\n",
    "conf.update(dict(\n",
    "    run_number    = run_number,\n",
    "    files_in      = input_path,\n",
    "    file_out      = output_path,\n",
    "    event_range   = (0, nrequired),\n",
    "    **unpack_s12params(s12params)\n",
    "))\n",
    "\n",
    "cnt = irene(**conf)"
   ],
   "metadata": {
    "collapsed": false,
    "pycharm": {
     "name": "#%%\n"
    }
   }
  },
  {
   "cell_type": "markdown",
   "source": [
    "We take the output"
   ],
   "metadata": {
    "collapsed": false
   }
  },
  {
   "cell_type": "code",
   "execution_count": 59,
   "outputs": [
    {
     "name": "stdout",
     "output_type": "stream",
     "text": [
      "- events_in:\t2\n",
      "- events_out:\t1\n",
      "- evtnum_list:\t[1820002]\n",
      "- over_thr:\tPassedFailed(n_passed=2, n_failed=0)\n",
      "- full_pmap:\tPassedFailed(n_passed=1, n_failed=1)\n"
     ]
    }
   ],
   "source": [
    "d = vars(cnt)\n",
    "for entry in d:\n",
    "    print(f\"- {entry}:\\t{d[entry]}\")\n",
    "\n"
   ],
   "metadata": {
    "collapsed": false,
    "pycharm": {
     "name": "#%%\n"
    }
   }
  },
  {
   "cell_type": "markdown",
   "source": [
    "### Reading several files\n",
    "\n",
    "Up to now, we have read files one by one\n",
    "\n",
    "Test in line 226\n",
    "\n"
   ],
   "metadata": {
    "collapsed": false,
    "pycharm": {
     "name": "#%% md\n"
    }
   }
  }
 ],
 "metadata": {
  "kernelspec": {
   "display_name": "Python 3",
   "language": "python",
   "name": "python3"
  },
  "language_info": {
   "codemirror_mode": {
    "name": "ipython",
    "version": 2
   },
   "file_extension": ".py",
   "mimetype": "text/x-python",
   "name": "python",
   "nbconvert_exporter": "python",
   "pygments_lexer": "ipython2",
   "version": "2.7.6"
  }
 },
 "nbformat": 4,
 "nbformat_minor": 0
}