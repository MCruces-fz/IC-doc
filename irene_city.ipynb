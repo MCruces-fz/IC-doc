{
 "cells": [
  {
   "cell_type": "markdown",
   "source": [
    "# Irene City\n",
    "From ancient Greek, *Εἰρήνη*: Peace.\n",
    "\n",
    "This city finds the signal pulses within the waveforms produced by the\n",
    "detector or by diomira in the case of Monte Carlo data.\n",
    "\n",
    "This includes a number of tasks:\n",
    "- Remove the signal-derivative effect of the PMT waveforms.\n",
    "- Calibrate PMTs and produced a PMT-summed waveform.\n",
    "- Remove the baseline from the SiPM waveforms and calibrate them.\n",
    "- Apply a threshold to the PMT-summed waveform.\n",
    "- Find pulses in the PMT-summed waveform.\n",
    "- Match the time window of the PMT pulse with those in the SiPMs.\n",
    "- Build the PMap object."
   ],
   "metadata": {
    "collapsed": false,
    "pycharm": {
     "name": "#%% md\n"
    }
   }
  },
  {
   "cell_type": "code",
   "execution_count": 1,
   "metadata": {
    "collapsed": true,
    "pycharm": {
     "name": "#%%\n"
    }
   },
   "outputs": [],
   "source": [
    "import os\n",
    "from os.path import join as join_path"
   ]
  },
  {
   "cell_type": "markdown",
   "source": [
    "### Constants"
   ],
   "metadata": {
    "collapsed": false,
    "pycharm": {
     "name": "#%% md\n"
    }
   }
  },
  {
   "cell_type": "code",
   "execution_count": 2,
   "outputs": [],
   "source": [
    "ICDIR = os.environ[\"ICDIR\"]\n",
    "ICDATADIR = join_path(ICDIR, \"database/test_data/\")\n",
    "ICOUTDIR = \"output/\""
   ],
   "metadata": {
    "collapsed": false,
    "pycharm": {
     "name": "#%%\n"
    }
   }
  },
  {
   "cell_type": "markdown",
   "source": [
    "## Initialization"
   ],
   "metadata": {
    "collapsed": false,
    "pycharm": {
     "name": "#%% md\n"
    }
   }
  },
  {
   "cell_type": "code",
   "execution_count": 3,
   "outputs": [],
   "source": [
    "if not os.path.isdir(ICOUTDIR):\n",
    "    os.mkdir(ICOUTDIR)"
   ],
   "metadata": {
    "collapsed": false,
    "pycharm": {
     "name": "#%%\n"
    }
   }
  },
  {
   "cell_type": "markdown",
   "source": [
    "## Irene electrons 40 keV\n",
    "Test from invisible_cities/cities/irene_test.py"
   ],
   "metadata": {
    "collapsed": false,
    "pycharm": {
     "name": "#%% md\n"
    }
   }
  },
  {
   "cell_type": "code",
   "execution_count": 4,
   "outputs": [],
   "source": [
    "from invisible_cities.types.ic_types import minmax\n",
    "import invisible_cities.core.system_of_units as units"
   ],
   "metadata": {
    "collapsed": false,
    "pycharm": {
     "name": "#%%\n"
    }
   }
  },
  {
   "cell_type": "markdown",
   "source": [
    "Parameters to unpack"
   ],
   "metadata": {
    "collapsed": false,
    "pycharm": {
     "name": "#%% md\n"
    }
   }
  },
  {
   "cell_type": "code",
   "execution_count": 5,
   "outputs": [],
   "source": [
    "# from invisible_cities.evm.ic_containers import S12Params as S12P\n",
    "from missed import S12Params as S12P\n",
    "\n",
    "s12params = [\n",
    "    S12P(time   = minmax(min =  99 * units.mus,\n",
    "                         max = 101 * units.mus),\n",
    "         length = minmax(min =   4,\n",
    "                         max =  20,),\n",
    "         stride              =   4,\n",
    "         rebin_stride        =   1),\n",
    "    S12P(time   = minmax(min =    101 * units.mus,\n",
    "                         max =   1199 * units.mus),\n",
    "         length = minmax(min =     80,\n",
    "                         max = 200000),\n",
    "         stride              =     40,\n",
    "         rebin_stride        =     40)\n",
    "]\n"
   ],
   "metadata": {
    "collapsed": false,
    "pycharm": {
     "name": "#%%\n"
    }
   }
  },
  {
   "cell_type": "markdown",
   "source": [
    "Input and output files"
   ],
   "metadata": {
    "collapsed": false
   }
  },
  {
   "cell_type": "code",
   "execution_count": 6,
   "outputs": [],
   "source": [
    "input_path = join_path(ICDATADIR, \"electrons_40keV_ACTIVE_10evts_RWF.h5\")\n",
    "output_path = join_path(ICOUTDIR, \"electrons_40keV_ACTIVE_10evts_CWF.h5\")"
   ],
   "metadata": {
    "collapsed": false,
    "pycharm": {
     "name": "#%%\n"
    }
   }
  },
  {
   "cell_type": "markdown",
   "source": [
    "Other parameters"
   ],
   "metadata": {
    "collapsed": false
   }
  },
  {
   "cell_type": "code",
   "execution_count": 7,
   "outputs": [],
   "source": [
    "nrequired = 2\n",
    "case = 0\n",
    "thr_sipm_type = [\"common\", \"individual\"][case]\n",
    "thr_sipm_value = [3.5, 0.99][case]\n"
   ],
   "metadata": {
    "collapsed": false,
    "pycharm": {
     "name": "#%%\n"
    }
   }
  },
  {
   "cell_type": "markdown",
   "source": [
    "Configuration"
   ],
   "metadata": {
    "collapsed": false
   }
  },
  {
   "cell_type": "code",
   "execution_count": 8,
   "outputs": [],
   "source": [
    "from missed import unpack_s12params\n",
    "from invisible_cities.core.configure import configure\n",
    "from invisible_cities.database.load_db import DetDB\n",
    "\n",
    "conf = configure(f\"dummy {join_path(ICDIR, 'config/irene.conf')}\".split())\n",
    "\n",
    "conf.update(dict(\n",
    "    detector_db   = DetDB.new,\n",
    "    run_number    = 0,\n",
    "    files_in      = input_path,\n",
    "    file_out      = output_path,\n",
    "    event_range   = (0, nrequired),\n",
    "    thr_sipm_type = thr_sipm_type,\n",
    "    thr_sipm      = thr_sipm_value,\n",
    "    **unpack_s12params(s12params)\n",
    "))\n",
    "\n"
   ],
   "metadata": {
    "collapsed": false,
    "pycharm": {
     "name": "#%%\n"
    }
   }
  },
  {
   "cell_type": "markdown",
   "source": [
    "Pass all parameters to Irene City"
   ],
   "metadata": {
    "collapsed": false
   }
  },
  {
   "cell_type": "code",
   "execution_count": 9,
   "outputs": [
    {
     "name": "stdout",
     "output_type": "stream",
     "text": [
      "NumExpr defaulting to 8 threads.\n",
      "events processed: 0, event number: 0\n",
      "events processed: 1, event number: 1\n"
     ]
    }
   ],
   "source": [
    "from invisible_cities.cities.irene import irene\n",
    "\n",
    "cnt = irene(**conf)\n"
   ],
   "metadata": {
    "collapsed": false,
    "pycharm": {
     "name": "#%%\n"
    }
   }
  }
 ],
 "metadata": {
  "kernelspec": {
   "display_name": "Python 3",
   "language": "python",
   "name": "python3"
  },
  "language_info": {
   "codemirror_mode": {
    "name": "ipython",
    "version": 2
   },
   "file_extension": ".py",
   "mimetype": "text/x-python",
   "name": "python",
   "nbconvert_exporter": "python",
   "pygments_lexer": "ipython2",
   "version": "2.7.6"
  }
 },
 "nbformat": 4,
 "nbformat_minor": 0
}