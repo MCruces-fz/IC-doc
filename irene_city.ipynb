{
 "cells": [
  {
   "cell_type": "markdown",
   "source": [
    "# Irene City\n",
    "From ancient Greek, *Εἰρήνη*: Peace.\n",
    "\n",
    "This city finds the signal pulses within the waveforms produced by the\n",
    "detector or by diomira in the case of Monte Carlo data.\n",
    "\n",
    "This includes a number of tasks:\n",
    "- Remove the signal-derivative effect of the PMT waveforms.\n",
    "- Calibrate PMTs and produced a PMT-summed waveform.\n",
    "- Remove the baseline from the SiPM waveforms and calibrate them.\n",
    "- Apply a threshold to the PMT-summed waveform.\n",
    "- Find pulses in the PMT-summed waveform.\n",
    "- Match the time window of the PMT pulse with those in the SiPMs.\n",
    "- Build the PMap object.\n",
    "\n",
    "## How to use\n",
    "\n",
    "In your shell, execute\n",
    "```bash\n",
    "cd /path/to/IC/work/dir/\n",
    "source manage.sh work_in_python_version 3.7\n",
    "```\n",
    "to activate the *IC-3.7-2020-06-16* conda environment.\n",
    "\n",
    "Then you are able to run *Irene City* with\n",
    "```bash\n",
    "city irene invisible_cities/config/irene.conf\n",
    "```\n",
    "being *irene.conf* the configuration for that run.\n",
    "\n",
    "## Data Transformations\n",
    "\n",
    "Each of the steps that this algorithm follows are described here. The parameters used in\n",
    "all python snippets are described in the  [**Keys** section](##keys).\n",
    "\n",
    "\n",
    "#### Map function\n",
    "\n",
    "The [`fl.map`](doc/dataflow/map.md) function is described in *doc/dataflow/map.md*\n",
    "in this project.\n",
    "\n",
    "\n",
    "### Raw WaveForm to Corrected WaveForm\n",
    "\n",
    "The first wave transformation done in *Irene City* is from Raw Waveform\n",
    "to Corrected Wafevorm. This is made by this snippet\n",
    "```python\n",
    "from invisible_cities.dataflow import dataflow as fl\n",
    "from invisible_cities.cities.components import deconv_pmt\n",
    "\n",
    "# Raw WaveForm to Corrected WaveForm\n",
    "rwf_to_cwf = fl.map(\n",
    "    deconv_pmt(detector_db, run_number, n_baseline),\n",
    "    args = \"pmt\",\n",
    "    out  = \"cwf\"\n",
    "    )\n",
    "```\n",
    "where the `fl.map` function applies to the `deconv_pmt` function output, which is another\n",
    "function.\n",
    "\n",
    "#### Deconv_pmt function\n",
    "\n",
    "This `deconv_pmt(args, kwargs)` function generates another function `foo(RWF)` configured\n",
    "by the `args` and `kwargs` given. The returned function `foo(RWF)` calculates the corrected\n",
    "waveform (CWF) from raw waveform (RWF) given.\n",
    "\n",
    "The `deconv_pmt(args, kwargs)` function takes as arguments (`args`):\n",
    "- `dbfile`: String with name of database. With those names is chosen the correspondent\n",
    "`sqlite3` file from `invisible_cities/database/`:\n",
    "    + \"new\": localdb.NEWDB.sqlite3\n",
    "    + \"demopp\": localdb.DEMOPPDB.sqlite3\n",
    "    + \"next100\": localdb.NEXT100DB.sqlite3\n",
    "    + \"felx100\": localdb.FLEX100DB.sqlite3\n",
    "- `run_number`: Integer which determines what run number read in the SQL query to the\n",
    "database.\n",
    "- `n_baseline`: Limit to read in columns from RWF (*Raw Wave Form*)\n",
    "\n",
    "and as keyword arguments (`kwargs`):\n",
    "- `selection`: If `None` (default) it takes only active and nonzero values from data in database,\n",
    "else it is a list with desired indices of the corrected waveform (CWF).\n",
    "- `pedestal_function`: By default it uses `calib_sensors_functions.means` as function to take\n",
    "the pedestal\n",
    "```python\n",
    "CWF = pedestal_function(RWF[:, :n_baseline]) - RWF\n",
    "```\n",
    "#### Example: *Raw WaveForm to Corrected WaveForm*\n",
    "\n",
    "We take in this example the database called `localdb.NEWDB.sqlite3`, the run number `0`, and\n",
    "for a window of 800 microseconds a baseline number of `28000`:"
   ],
   "metadata": {
    "collapsed": false,
    "pycharm": {
     "name": "#%% md\n"
    }
   }
  },
  {
   "cell_type": "code",
   "execution_count": 20,
   "outputs": [],
   "source": [
    "from invisible_cities.cities.components import deconv_pmt\n",
    "\n",
    "# Raw WaveForm to Corrected WaveForm\n",
    "foo = deconv_pmt(\n",
    "    dbfile     = \"new\",\n",
    "    run_number =     0,\n",
    "    n_baseline = 28000  # for a window of 800 mus\n",
    ")"
   ],
   "metadata": {
    "collapsed": false,
    "pycharm": {
     "name": "#%%\n"
    }
   }
  },
  {
   "cell_type": "markdown",
   "source": [
    "and we get the `foo(RWF)` function with this given configuration. Then, if we apply the\n",
    "`dataflow.map` function  to it"
   ],
   "metadata": {
    "collapsed": false,
    "pycharm": {
     "name": "#%% md\n"
    }
   }
  },
  {
   "cell_type": "code",
   "execution_count": 21,
   "outputs": [],
   "source": [
    "from invisible_cities.dataflow import dataflow as fl\n",
    "\n",
    "rwf_to_cwf = fl.map(foo, args = \"pmt\", out  = \"cwf\")"
   ],
   "metadata": {
    "collapsed": false,
    "pycharm": {
     "name": "#%%\n"
    }
   }
  },
  {
   "cell_type": "markdown",
   "source": [
    "we get the `rwf_to_cwf` function."
   ],
   "metadata": {
    "collapsed": false,
    "pycharm": {
     "name": "#%% md\n"
    }
   }
  },
  {
   "cell_type": "code",
   "execution_count": 22,
   "outputs": [
    {
     "name": "stdout",
     "output_type": "stream",
     "text": [
      "<class 'function'>\n",
      "Function called map_loop\n",
      "['__annotations__', '__call__', '__class__', '__closure__', '__code__', '__defaults__', '__delattr__', '__dict__', '__dir__', '__doc__', '__eq__', '__format__', '__ge__', '__get__', '__getattribute__', '__globals__', '__gt__', '__hash__', '__init__', '__init_subclass__', '__kwdefaults__', '__le__', '__lt__', '__module__', '__name__', '__ne__', '__new__', '__qualname__', '__reduce__', '__reduce_ex__', '__repr__', '__setattr__', '__sizeof__', '__str__', '__subclasshook__', '__wrapped__']\n"
     ]
    }
   ],
   "source": [
    "print(type(rwf_to_cwf))\n",
    "print(f\"Function called {rwf_to_cwf.__name__}\")\n",
    "\n",
    "print(dir(rwf_to_cwf))"
   ],
   "metadata": {
    "collapsed": false,
    "pycharm": {
     "name": "#%%\n"
    }
   }
  },
  {
   "cell_type": "markdown",
   "source": [
    "### Corrected WaveForm to Calibrated Corrected WaveForm\n",
    "\n",
    "The next wave transformation done in *Irene City*, consists in take the\n",
    "previous Corrected Waveform and calibrate it to get the Calibrated\n",
    "Corrected WaveForm.\n",
    "```python\n",
    "cwf_to_ccwf = fl.map(\n",
    "    calibrate_pmts(detector_db, run_number, n_mau, thr_mau),\n",
    "    args = \"cwf\",\n",
    "    out  = (\"ccwfs\", \"ccwfs_mau\", \"cwf_sum\", \"cwf_sum_mau\")\n",
    "    )\n",
    "```\n",
    "#### Calibrate_pmts function\n",
    "This `calibrate_pmts(args)` function with four arguments:\n",
    "- `detector_db`\n",
    "- `run_number`\n",
    "- `n_mau`\n",
    "- `thr_mau`\n",
    "\n",
    "returns another function `foo(cwf)` with only one argument, which is the\n",
    "calibrated waveform (`cwf`). This `foo(cwf)` is called for PMT waveforms that\n",
    "have already been baseline restored and pedestal subtracted. It computes the\n",
    "calibrated waveforms and its sensor sum. It also computes the calibrated waveforms\n",
    "and sensor sum for elements of the waveforms above some value (`thr_mau`) over\n",
    "a MAU that follows the waveform. These are useful to suppress oscillatory noise\n",
    "and thus can be applied for S1 searches\n",
    "\n",
    "#### Example: *Corrected WaveForm to Calibrated Corrected WaveForm*"
   ],
   "metadata": {
    "collapsed": false,
    "pycharm": {
     "name": "#%% md\n"
    }
   }
  },
  {
   "cell_type": "code",
   "execution_count": 1,
   "outputs": [
    {
     "name": "stdout",
     "output_type": "stream",
     "text": [
      "Write example...\n"
     ]
    }
   ],
   "source": [
    "print(\"Write example...\")"
   ],
   "metadata": {
    "collapsed": false,
    "pycharm": {
     "name": "#%%\n"
    }
   }
  },
  {
   "cell_type": "markdown",
   "source": [
    "### Find Where Waveform is Above Threshold\n",
    "```python\n",
    "zero_suppress = fl.map(\n",
    "    zero_suppress_wfs(thr_csum_s1, thr_csum_s2),\n",
    "    args = (\"cwf_sum\", \"cwf_sum_mau\"),\n",
    "    out  = (\"s1_indices\", \"s2_indices\", \"s2_energies\")\n",
    "    )\n",
    "```\n",
    "#### Zero_suppress_wfs function\n",
    "This `zero_suppress_wfs(args)` function with two arguments:\n",
    "- `thr_csum_s1`: Threshold 1\n",
    "- `thr_csum_s2`: Threshold 2\n",
    "\n",
    "returns another function `foo(ccwf_sum, ccwf_sum_mau)` with two arguments\n",
    "- `ccwf_sum`: Corrected waveform sum\n",
    "- `ccwf_sum_mau`: corrected waveform sum mau\n",
    "which returns indices of energies over the given thresholds `thr_csum_s1`\n",
    "and `thr_csum_s2`.\n",
    "\n",
    "### Remove Baseline and Calibrate SiPMs\n",
    "\n",
    "Blah blah blah...\n",
    "\n",
    "```python\n",
    "sipm_rwf_to_cal = fl.map(\n",
    "    calibrate_sipms(detector_db, run_number, sipm_thr),\n",
    "    item = \"sipm\"\n",
    "    )\n",
    "```\n",
    "#### Calibrate_sipms function\n",
    "This `calibrate_sipms(args)` function with three arguments:\n",
    "- `detector_db`\n",
    "- `run_number`\n",
    "- `sipm_thr`\n",
    "\n",
    "returns another function `foo(rwf)` with only one argument, which is the\n",
    "raw waveform (`rwf`). It subtracts the baseline, calibrates waveforms to\n",
    "pes and suppresses values below `thr` (in pes) following given `args` from\n",
    "`calibrate_sipms(args)`.\n",
    "\n",
    "\n",
    "## Keys\n",
    "\n",
    "Let's see what the hack are those configuration keys.\n",
    "\n",
    "### detector_db\n",
    "\n",
    "String which always takes\n",
    "```python\n",
    "detector_db = \"new\"\n",
    "```\n",
    "Always means, in all configuration files:\n",
    "```bash\n",
    "> cat invisible_cities/config/*.conf | grep detector_db\n",
    "detector_db = 'new'\n",
    "detector_db = 'new'\n",
    "detector_db = 'new'\n",
    "detector_db = 'new'\n",
    "detector_db = 'new'\n",
    "detector_db = 'new'\n",
    "detector_db = 'new'\n",
    "detector_db = 'new'\n",
    "detector_db = 'new'\n",
    "detector_db = 'new'\n",
    "detector_db = 'new'\n",
    "detector_db = 'new'\n",
    "```\n",
    "\n",
    "Why?\n",
    "\n",
    "### thr_sipm_type\n",
    "String to choose how to set the threshold. There are two options for this parameter:\n",
    "- `\"common\"`: the threshold is a value in pes.\n",
    "- `\"individual\"`: the threshold is a percentual value.\n",
    "\n",
    "and you can write both in uppercase and lowercase.\n",
    "\n",
    "\n",
    "\n",
    "\n",
    "## Input parameters\n",
    "files_in\n",
    "file_out\n",
    "compression\n",
    "event_range\n",
    "print_mod\n",
    "detector_db\n",
    "run_number\n",
    "n_baseline\n",
    "n_mau\n",
    "thr_mau\n",
    "thr_sipm\n",
    "thr_sipm_type\n",
    "s1_lmin\n",
    "s1_lmax\n",
    "s1_tmin\n",
    "s1_tmax\n",
    "s1_rebin_stride\n",
    "s1_stride\n",
    "thr_csum_s1\n",
    "s2_lmin\n",
    "s2_lmax\n",
    "s2_tmin\n",
    "s2_tmax\n",
    "s2_rebin_stride\n",
    "s2_stride\n",
    "thr_csum_s2\n",
    "thr_sipm_s2\n",
    "pmt_samp_wid=25*units.ns\n",
    "sipm_samp_wid=1*units.mus"
   ],
   "metadata": {
    "collapsed": false,
    "pycharm": {
     "name": "#%% md\n"
    }
   }
  },
  {
   "cell_type": "code",
   "execution_count": null,
   "outputs": [],
   "source": [],
   "metadata": {
    "collapsed": false,
    "pycharm": {
     "name": "#%%\n"
    }
   }
  }
 ],
 "metadata": {
  "kernelspec": {
   "display_name": "Python 3",
   "language": "python",
   "name": "python3"
  },
  "language_info": {
   "codemirror_mode": {
    "name": "ipython",
    "version": 2
   },
   "file_extension": ".py",
   "mimetype": "text/x-python",
   "name": "python",
   "nbconvert_exporter": "python",
   "pygments_lexer": "ipython2",
   "version": "2.7.6"
  }
 },
 "nbformat": 4,
 "nbformat_minor": 0
}